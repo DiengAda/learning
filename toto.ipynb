{
 "cells": [
  {
   "cell_type": "code",
   "execution_count": 1,
   "metadata": {},
   "outputs": [
    {
     "name": "stdout",
     "output_type": "stream",
     "text": [
      "feelpp loaded from /usr/lib/python3/dist-packages/feelpp/__init__.py\n"
     ]
    }
   ],
   "source": [
    "import sys\n",
    "import feelpp\n",
    "import numpy as np\n",
    "print(f\"feelpp loaded from {feelpp.__file__}\")\n",
    "sys.argv = ['feelpp1']\n",
    "e = feelpp.Environment(sys.argv,config=feelpp.localRepository(\"feelpp1\"))\n"
   ]
  },
  {
   "cell_type": "code",
   "execution_count": 2,
   "metadata": {},
   "outputs": [
    {
     "data": {
      "application/vnd.plotly.v1+json": {
       "config": {
        "plotlyServerURL": "https://plot.ly"
       },
       "data": [
        {
         "mode": "lines",
         "name": "$y$",
         "type": "scatter",
         "x": [
          -1,
          -0.9797979797979798,
          -0.9595959595959596,
          -0.9393939393939394,
          -0.9191919191919192,
          -0.898989898989899,
          -0.8787878787878788,
          -0.8585858585858586,
          -0.8383838383838383,
          -0.8181818181818181,
          -0.797979797979798,
          -0.7777777777777778,
          -0.7575757575757576,
          -0.7373737373737373,
          -0.7171717171717171,
          -0.696969696969697,
          -0.6767676767676767,
          -0.6565656565656566,
          -0.6363636363636364,
          -0.6161616161616161,
          -0.5959595959595959,
          -0.5757575757575757,
          -0.5555555555555556,
          -0.5353535353535352,
          -0.5151515151515151,
          -0.4949494949494949,
          -0.4747474747474747,
          -0.4545454545454545,
          -0.43434343434343425,
          -0.41414141414141414,
          -0.3939393939393939,
          -0.3737373737373737,
          -0.3535353535353535,
          -0.33333333333333326,
          -0.31313131313131304,
          -0.2929292929292928,
          -0.2727272727272727,
          -0.2525252525252525,
          -0.23232323232323226,
          -0.21212121212121204,
          -0.19191919191919182,
          -0.1717171717171716,
          -0.1515151515151515,
          -0.13131313131313127,
          -0.11111111111111105,
          -0.09090909090909083,
          -0.07070707070707061,
          -0.050505050505050386,
          -0.030303030303030276,
          -0.010101010101010055,
          0.010101010101010166,
          0.030303030303030498,
          0.05050505050505061,
          0.07070707070707072,
          0.09090909090909105,
          0.11111111111111116,
          0.1313131313131315,
          0.1515151515151516,
          0.1717171717171717,
          0.19191919191919204,
          0.21212121212121215,
          0.2323232323232325,
          0.2525252525252526,
          0.27272727272727293,
          0.29292929292929304,
          0.31313131313131315,
          0.3333333333333335,
          0.3535353535353536,
          0.3737373737373739,
          0.39393939393939403,
          0.41414141414141437,
          0.4343434343434345,
          0.4545454545454546,
          0.4747474747474749,
          0.49494949494949503,
          0.5151515151515154,
          0.5353535353535355,
          0.5555555555555556,
          0.5757575757575759,
          0.595959595959596,
          0.6161616161616164,
          0.6363636363636365,
          0.6565656565656568,
          0.6767676767676769,
          0.696969696969697,
          0.7171717171717173,
          0.7373737373737375,
          0.7575757575757578,
          0.7777777777777779,
          0.7979797979797982,
          0.8181818181818183,
          0.8383838383838385,
          0.8585858585858588,
          0.8787878787878789,
          0.8989898989898992,
          0.9191919191919193,
          0.9393939393939394,
          0.9595959595959598,
          0.9797979797979799,
          1
         ],
         "y": [
          2.4492935982947064e-16,
          0.12659245357374993,
          0.2511479871810794,
          0.37166245566032724,
          0.4861967361004688,
          0.592907929054641,
          0.690079011482112,
          0.7761464642917572,
          0.8497254299495144,
          0.9096319953545186,
          0.9549022414440739,
          0.9848077530122081,
          0.998867339183008,
          0.9968547759519423,
          0.9788024462147785,
          0.9450008187146683,
          0.8959937742913355,
          0.8325698546347713,
          0.7557495743542582,
          0.6667690005162915,
          0.5670598638627703,
          0.4582265217274099,
          0.34202014332566866,
          0.2203105327865397,
          0.09505604330418263,
          -0.0317279334980681,
          -0.1580013959733503,
          -0.28173255684143006,
          -0.40093053540661444,
          -0.5136773915734063,
          -0.6181589862206055,
          -0.712694171378863,
          -0.7957618405308323,
          -0.8660254037844389,
          -0.9223542941045817,
          -0.9638421585599423,
          -0.9898214418809328,
          -0.9998741276738751,
          -0.9938384644612541,
          -0.9718115683235415,
          -0.9341478602651064,
          -0.8814533634475817,
          -0.8145759520503356,
          -0.7345917086575331,
          -0.642787609686539,
          -0.5406408174555971,
          -0.42979491208917103,
          -0.3120334456984864,
          -0.18925124436041002,
          -0.06342391965656421,
          0.06342391965656491,
          0.18925124436041138,
          0.31203344569848773,
          0.4297949120891717,
          0.5406408174555983,
          0.6427876096865396,
          0.734591708657534,
          0.814575952050336,
          0.8814533634475821,
          0.934147860265107,
          0.9718115683235418,
          0.9938384644612542,
          0.9998741276738751,
          0.9898214418809326,
          0.9638421585599419,
          0.9223542941045814,
          0.8660254037844383,
          0.795761840530832,
          0.7126941713788622,
          0.6181589862206047,
          0.5136773915734051,
          0.4009305354066132,
          0.28173255684142967,
          0.158001395973349,
          0.03172793349806721,
          -0.09505604330418396,
          -0.220310532786541,
          -0.34202014332566866,
          -0.4582265217274111,
          -0.567059863862771,
          -0.6667690005162925,
          -0.7557495743542587,
          -0.8325698546347722,
          -0.8959937742913363,
          -0.9450008187146683,
          -0.978802446214779,
          -0.9968547759519424,
          -0.998867339183008,
          -0.984807753012208,
          -0.9549022414440733,
          -0.9096319953545182,
          -0.8497254299495144,
          -0.776146464291756,
          -0.6900790114821114,
          -0.5929079290546395,
          -0.48619673610046804,
          -0.37166245566032724,
          -0.2511479871810785,
          -0.12659245357374904,
          -2.4492935982947064e-16
         ]
        }
       ],
       "layout": {
        "template": {
         "data": {
          "bar": [
           {
            "error_x": {
             "color": "#2a3f5f"
            },
            "error_y": {
             "color": "#2a3f5f"
            },
            "marker": {
             "line": {
              "color": "#E5ECF6",
              "width": 0.5
             },
             "pattern": {
              "fillmode": "overlay",
              "size": 10,
              "solidity": 0.2
             }
            },
            "type": "bar"
           }
          ],
          "barpolar": [
           {
            "marker": {
             "line": {
              "color": "#E5ECF6",
              "width": 0.5
             },
             "pattern": {
              "fillmode": "overlay",
              "size": 10,
              "solidity": 0.2
             }
            },
            "type": "barpolar"
           }
          ],
          "carpet": [
           {
            "aaxis": {
             "endlinecolor": "#2a3f5f",
             "gridcolor": "white",
             "linecolor": "white",
             "minorgridcolor": "white",
             "startlinecolor": "#2a3f5f"
            },
            "baxis": {
             "endlinecolor": "#2a3f5f",
             "gridcolor": "white",
             "linecolor": "white",
             "minorgridcolor": "white",
             "startlinecolor": "#2a3f5f"
            },
            "type": "carpet"
           }
          ],
          "choropleth": [
           {
            "colorbar": {
             "outlinewidth": 0,
             "ticks": ""
            },
            "type": "choropleth"
           }
          ],
          "contour": [
           {
            "colorbar": {
             "outlinewidth": 0,
             "ticks": ""
            },
            "colorscale": [
             [
              0,
              "#0d0887"
             ],
             [
              0.1111111111111111,
              "#46039f"
             ],
             [
              0.2222222222222222,
              "#7201a8"
             ],
             [
              0.3333333333333333,
              "#9c179e"
             ],
             [
              0.4444444444444444,
              "#bd3786"
             ],
             [
              0.5555555555555556,
              "#d8576b"
             ],
             [
              0.6666666666666666,
              "#ed7953"
             ],
             [
              0.7777777777777778,
              "#fb9f3a"
             ],
             [
              0.8888888888888888,
              "#fdca26"
             ],
             [
              1,
              "#f0f921"
             ]
            ],
            "type": "contour"
           }
          ],
          "contourcarpet": [
           {
            "colorbar": {
             "outlinewidth": 0,
             "ticks": ""
            },
            "type": "contourcarpet"
           }
          ],
          "heatmap": [
           {
            "colorbar": {
             "outlinewidth": 0,
             "ticks": ""
            },
            "colorscale": [
             [
              0,
              "#0d0887"
             ],
             [
              0.1111111111111111,
              "#46039f"
             ],
             [
              0.2222222222222222,
              "#7201a8"
             ],
             [
              0.3333333333333333,
              "#9c179e"
             ],
             [
              0.4444444444444444,
              "#bd3786"
             ],
             [
              0.5555555555555556,
              "#d8576b"
             ],
             [
              0.6666666666666666,
              "#ed7953"
             ],
             [
              0.7777777777777778,
              "#fb9f3a"
             ],
             [
              0.8888888888888888,
              "#fdca26"
             ],
             [
              1,
              "#f0f921"
             ]
            ],
            "type": "heatmap"
           }
          ],
          "heatmapgl": [
           {
            "colorbar": {
             "outlinewidth": 0,
             "ticks": ""
            },
            "colorscale": [
             [
              0,
              "#0d0887"
             ],
             [
              0.1111111111111111,
              "#46039f"
             ],
             [
              0.2222222222222222,
              "#7201a8"
             ],
             [
              0.3333333333333333,
              "#9c179e"
             ],
             [
              0.4444444444444444,
              "#bd3786"
             ],
             [
              0.5555555555555556,
              "#d8576b"
             ],
             [
              0.6666666666666666,
              "#ed7953"
             ],
             [
              0.7777777777777778,
              "#fb9f3a"
             ],
             [
              0.8888888888888888,
              "#fdca26"
             ],
             [
              1,
              "#f0f921"
             ]
            ],
            "type": "heatmapgl"
           }
          ],
          "histogram": [
           {
            "marker": {
             "pattern": {
              "fillmode": "overlay",
              "size": 10,
              "solidity": 0.2
             }
            },
            "type": "histogram"
           }
          ],
          "histogram2d": [
           {
            "colorbar": {
             "outlinewidth": 0,
             "ticks": ""
            },
            "colorscale": [
             [
              0,
              "#0d0887"
             ],
             [
              0.1111111111111111,
              "#46039f"
             ],
             [
              0.2222222222222222,
              "#7201a8"
             ],
             [
              0.3333333333333333,
              "#9c179e"
             ],
             [
              0.4444444444444444,
              "#bd3786"
             ],
             [
              0.5555555555555556,
              "#d8576b"
             ],
             [
              0.6666666666666666,
              "#ed7953"
             ],
             [
              0.7777777777777778,
              "#fb9f3a"
             ],
             [
              0.8888888888888888,
              "#fdca26"
             ],
             [
              1,
              "#f0f921"
             ]
            ],
            "type": "histogram2d"
           }
          ],
          "histogram2dcontour": [
           {
            "colorbar": {
             "outlinewidth": 0,
             "ticks": ""
            },
            "colorscale": [
             [
              0,
              "#0d0887"
             ],
             [
              0.1111111111111111,
              "#46039f"
             ],
             [
              0.2222222222222222,
              "#7201a8"
             ],
             [
              0.3333333333333333,
              "#9c179e"
             ],
             [
              0.4444444444444444,
              "#bd3786"
             ],
             [
              0.5555555555555556,
              "#d8576b"
             ],
             [
              0.6666666666666666,
              "#ed7953"
             ],
             [
              0.7777777777777778,
              "#fb9f3a"
             ],
             [
              0.8888888888888888,
              "#fdca26"
             ],
             [
              1,
              "#f0f921"
             ]
            ],
            "type": "histogram2dcontour"
           }
          ],
          "mesh3d": [
           {
            "colorbar": {
             "outlinewidth": 0,
             "ticks": ""
            },
            "type": "mesh3d"
           }
          ],
          "parcoords": [
           {
            "line": {
             "colorbar": {
              "outlinewidth": 0,
              "ticks": ""
             }
            },
            "type": "parcoords"
           }
          ],
          "pie": [
           {
            "automargin": true,
            "type": "pie"
           }
          ],
          "scatter": [
           {
            "fillpattern": {
             "fillmode": "overlay",
             "size": 10,
             "solidity": 0.2
            },
            "type": "scatter"
           }
          ],
          "scatter3d": [
           {
            "line": {
             "colorbar": {
              "outlinewidth": 0,
              "ticks": ""
             }
            },
            "marker": {
             "colorbar": {
              "outlinewidth": 0,
              "ticks": ""
             }
            },
            "type": "scatter3d"
           }
          ],
          "scattercarpet": [
           {
            "marker": {
             "colorbar": {
              "outlinewidth": 0,
              "ticks": ""
             }
            },
            "type": "scattercarpet"
           }
          ],
          "scattergeo": [
           {
            "marker": {
             "colorbar": {
              "outlinewidth": 0,
              "ticks": ""
             }
            },
            "type": "scattergeo"
           }
          ],
          "scattergl": [
           {
            "marker": {
             "colorbar": {
              "outlinewidth": 0,
              "ticks": ""
             }
            },
            "type": "scattergl"
           }
          ],
          "scattermapbox": [
           {
            "marker": {
             "colorbar": {
              "outlinewidth": 0,
              "ticks": ""
             }
            },
            "type": "scattermapbox"
           }
          ],
          "scatterpolar": [
           {
            "marker": {
             "colorbar": {
              "outlinewidth": 0,
              "ticks": ""
             }
            },
            "type": "scatterpolar"
           }
          ],
          "scatterpolargl": [
           {
            "marker": {
             "colorbar": {
              "outlinewidth": 0,
              "ticks": ""
             }
            },
            "type": "scatterpolargl"
           }
          ],
          "scatterternary": [
           {
            "marker": {
             "colorbar": {
              "outlinewidth": 0,
              "ticks": ""
             }
            },
            "type": "scatterternary"
           }
          ],
          "surface": [
           {
            "colorbar": {
             "outlinewidth": 0,
             "ticks": ""
            },
            "colorscale": [
             [
              0,
              "#0d0887"
             ],
             [
              0.1111111111111111,
              "#46039f"
             ],
             [
              0.2222222222222222,
              "#7201a8"
             ],
             [
              0.3333333333333333,
              "#9c179e"
             ],
             [
              0.4444444444444444,
              "#bd3786"
             ],
             [
              0.5555555555555556,
              "#d8576b"
             ],
             [
              0.6666666666666666,
              "#ed7953"
             ],
             [
              0.7777777777777778,
              "#fb9f3a"
             ],
             [
              0.8888888888888888,
              "#fdca26"
             ],
             [
              1,
              "#f0f921"
             ]
            ],
            "type": "surface"
           }
          ],
          "table": [
           {
            "cells": {
             "fill": {
              "color": "#EBF0F8"
             },
             "line": {
              "color": "white"
             }
            },
            "header": {
             "fill": {
              "color": "#C8D4E3"
             },
             "line": {
              "color": "white"
             }
            },
            "type": "table"
           }
          ]
         },
         "layout": {
          "annotationdefaults": {
           "arrowcolor": "#2a3f5f",
           "arrowhead": 0,
           "arrowwidth": 1
          },
          "autotypenumbers": "strict",
          "coloraxis": {
           "colorbar": {
            "outlinewidth": 0,
            "ticks": ""
           }
          },
          "colorscale": {
           "diverging": [
            [
             0,
             "#8e0152"
            ],
            [
             0.1,
             "#c51b7d"
            ],
            [
             0.2,
             "#de77ae"
            ],
            [
             0.3,
             "#f1b6da"
            ],
            [
             0.4,
             "#fde0ef"
            ],
            [
             0.5,
             "#f7f7f7"
            ],
            [
             0.6,
             "#e6f5d0"
            ],
            [
             0.7,
             "#b8e186"
            ],
            [
             0.8,
             "#7fbc41"
            ],
            [
             0.9,
             "#4d9221"
            ],
            [
             1,
             "#276419"
            ]
           ],
           "sequential": [
            [
             0,
             "#0d0887"
            ],
            [
             0.1111111111111111,
             "#46039f"
            ],
            [
             0.2222222222222222,
             "#7201a8"
            ],
            [
             0.3333333333333333,
             "#9c179e"
            ],
            [
             0.4444444444444444,
             "#bd3786"
            ],
            [
             0.5555555555555556,
             "#d8576b"
            ],
            [
             0.6666666666666666,
             "#ed7953"
            ],
            [
             0.7777777777777778,
             "#fb9f3a"
            ],
            [
             0.8888888888888888,
             "#fdca26"
            ],
            [
             1,
             "#f0f921"
            ]
           ],
           "sequentialminus": [
            [
             0,
             "#0d0887"
            ],
            [
             0.1111111111111111,
             "#46039f"
            ],
            [
             0.2222222222222222,
             "#7201a8"
            ],
            [
             0.3333333333333333,
             "#9c179e"
            ],
            [
             0.4444444444444444,
             "#bd3786"
            ],
            [
             0.5555555555555556,
             "#d8576b"
            ],
            [
             0.6666666666666666,
             "#ed7953"
            ],
            [
             0.7777777777777778,
             "#fb9f3a"
            ],
            [
             0.8888888888888888,
             "#fdca26"
            ],
            [
             1,
             "#f0f921"
            ]
           ]
          },
          "colorway": [
           "#636efa",
           "#EF553B",
           "#00cc96",
           "#ab63fa",
           "#FFA15A",
           "#19d3f3",
           "#FF6692",
           "#B6E880",
           "#FF97FF",
           "#FECB52"
          ],
          "font": {
           "color": "#2a3f5f"
          },
          "geo": {
           "bgcolor": "white",
           "lakecolor": "white",
           "landcolor": "#E5ECF6",
           "showlakes": true,
           "showland": true,
           "subunitcolor": "white"
          },
          "hoverlabel": {
           "align": "left"
          },
          "hovermode": "closest",
          "mapbox": {
           "style": "light"
          },
          "paper_bgcolor": "white",
          "plot_bgcolor": "#E5ECF6",
          "polar": {
           "angularaxis": {
            "gridcolor": "white",
            "linecolor": "white",
            "ticks": ""
           },
           "bgcolor": "#E5ECF6",
           "radialaxis": {
            "gridcolor": "white",
            "linecolor": "white",
            "ticks": ""
           }
          },
          "scene": {
           "xaxis": {
            "backgroundcolor": "#E5ECF6",
            "gridcolor": "white",
            "gridwidth": 2,
            "linecolor": "white",
            "showbackground": true,
            "ticks": "",
            "zerolinecolor": "white"
           },
           "yaxis": {
            "backgroundcolor": "#E5ECF6",
            "gridcolor": "white",
            "gridwidth": 2,
            "linecolor": "white",
            "showbackground": true,
            "ticks": "",
            "zerolinecolor": "white"
           },
           "zaxis": {
            "backgroundcolor": "#E5ECF6",
            "gridcolor": "white",
            "gridwidth": 2,
            "linecolor": "white",
            "showbackground": true,
            "ticks": "",
            "zerolinecolor": "white"
           }
          },
          "shapedefaults": {
           "line": {
            "color": "#2a3f5f"
           }
          },
          "ternary": {
           "aaxis": {
            "gridcolor": "white",
            "linecolor": "white",
            "ticks": ""
           },
           "baxis": {
            "gridcolor": "white",
            "linecolor": "white",
            "ticks": ""
           },
           "bgcolor": "#E5ECF6",
           "caxis": {
            "gridcolor": "white",
            "linecolor": "white",
            "ticks": ""
           }
          },
          "title": {
           "x": 0.05
          },
          "xaxis": {
           "automargin": true,
           "gridcolor": "white",
           "linecolor": "white",
           "ticks": "",
           "title": {
            "standoff": 15
           },
           "zerolinecolor": "white",
           "zerolinewidth": 2
          },
          "yaxis": {
           "automargin": true,
           "gridcolor": "white",
           "linecolor": "white",
           "ticks": "",
           "title": {
            "standoff": 15
           },
           "zerolinecolor": "white",
           "zerolinewidth": 2
          }
         }
        },
        "xaxis": {
         "title": {
          "text": "x"
         }
        },
        "yaxis": {
         "title": {
          "text": "y"
         }
        }
       }
      }
     },
     "metadata": {},
     "output_type": "display_data"
    },
    {
     "name": "stdout",
     "output_type": "stream",
     "text": [
      "rectangle-1.msh\n",
      "measure is : [2.]\n"
     ]
    }
   ],
   "source": [
    "y = feelpp.expr(\"sin(2*pi*x):x\")\n",
    "y.setParameterValues({\"x\":2.0})\n",
    "\n",
    "import numpy as np\n",
    "x = np.linspace(-1,1,100) \n",
    "import plotly.graph_objects as go\n",
    "fig = go.Figure()\n",
    "fig.add_trace(go.Scatter(x=x, y=y.evaluate(\"x\",x), mode='lines', name='$y$'), )\n",
    "fig.update_xaxes(title_text=r\"x\")\n",
    "fig.update_yaxes(title_text=r\"y\")\n",
    "fig.show()\n",
    "from feelpp.integrate import integrate\n",
    "geo = {\n",
    "        '2': feelpp.create_rectangle(),\n",
    "        '3': feelpp.create_box(),\n",
    "    }\n",
    "mesh_name = geo['2'][0]\n",
    "print(mesh_name)\n",
    "mesh = feelpp.load(feelpp.mesh(dim=2), geo['2'][0], 0.1)\n",
    "meas = integrate(range=feelpp.elements(mesh),expr=\"1\")\n",
    "print(f\"measure is : {meas}\")\n",
    "assert np.abs(meas[0]-2.0) < 1e-10"
   ]
  }
 ],
 "metadata": {
  "kernelspec": {
   "display_name": "Python 3",
   "language": "python",
   "name": "python3"
  },
  "language_info": {
   "codemirror_mode": {
    "name": "ipython",
    "version": 3
   },
   "file_extension": ".py",
   "mimetype": "text/x-python",
   "name": "python",
   "nbconvert_exporter": "python",
   "pygments_lexer": "ipython3",
   "version": "3.8.10"
  },
  "orig_nbformat": 4,
  "vscode": {
   "interpreter": {
    "hash": "916dbcbb3f70747c44a77c7bcd40155683ae19c65e1c03b4aa3499c5328201f1"
   }
  }
 },
 "nbformat": 4,
 "nbformat_minor": 2
}
